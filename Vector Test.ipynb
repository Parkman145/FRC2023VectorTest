{
 "cells": [
  {
   "cell_type": "code",
   "execution_count": 1,
   "id": "e037c971-ae9a-4557-bd01-f04beb4b15e2",
   "metadata": {},
   "outputs": [],
   "source": [
    "import numpy as np\n",
    "import matplotlib.pyplot as plt"
   ]
  },
  {
   "cell_type": "code",
   "execution_count": 22,
   "id": "af066f6c-20c2-444b-8b33-b101ba498268",
   "metadata": {
    "slideshow": {
     "slide_type": ""
    },
    "tags": []
   },
   "outputs": [
    {
     "name": "stdout",
     "output_type": "stream",
     "text": [
      "[[0. 0.]\n",
      " [0. 1.]]\n",
      "[[ 1.          3.        ]\n",
      " [-0.70710678 -0.70710678]]\n"
     ]
    }
   ],
   "source": [
    "robot_position = np.array((0., 0.))\n",
    "robot_rotation = np.array((0, 1))\n",
    "robot_rotation = robot_rotation/np.linalg.norm(robot_rotation)\n",
    "robot_pose = np.stack((robot_position, robot_rotation))\n",
    "\n",
    "apriltag_position = np.array((1., 3.))\n",
    "apriltag_rotation = np.array((-1, -1))\n",
    "apriltag_rotation = apriltag_rotation/np.linalg.norm(apriltag_rotation)\n",
    "apriltag_pose = np.stack((apriltag_position, apriltag_rotation))\n",
    "print(robot_pose)\n",
    "print(apriltag_pose)\n",
    "offset = 5"
   ]
  },
  {
   "cell_type": "code",
   "execution_count": 23,
   "id": "f364ee66-e2dd-4ba7-9614-d6984806242b",
   "metadata": {},
   "outputs": [
    {
     "name": "stdout",
     "output_type": "stream",
     "text": [
      "[-2.53553391 -0.53553391]\n",
      "[-2.53553391 -0.53553391]\n"
     ]
    }
   ],
   "source": [
    "desired_position = apriltag_pose[0]+apriltag_pose[1]*offset\n",
    "print(desired_position)\n",
    "movement = robot_position+desired_position\n",
    "print(movement)"
   ]
  },
  {
   "cell_type": "code",
   "execution_count": 18,
   "id": "ee64975f-556e-4fd3-bd44-fd5952b934e6",
   "metadata": {
    "editable": true,
    "slideshow": {
     "slide_type": ""
    },
    "tags": []
   },
   "outputs": [
    {
     "data": {
      "text/plain": [
       "(-5.0, 5.0)"
      ]
     },
     "execution_count": 18,
     "metadata": {},
     "output_type": "execute_result"
    },
    {
     "data": {
      "image/png": "[encoded data removed]",
      "text/plain": [
       "<Figure size 640x480 with 1 Axes>"
      ]
     },
     "metadata": {},
     "output_type": "display_data"
    }
   ],
   "source": [
    "plt.arrow(robot_pose[0][0], robot_pose[0][1], robot_pose[1][0], robot_pose[1][1], head_width=0.1)\n",
    "plt.arrow(apriltag_pose[0][0], apriltag_pose[0][1], apriltag_pose[1][0], apriltag_pose[1][1], head_width=0.2)\n",
    "plt.scatter(desired_position[0], desired_position[1])\n",
    "plt.arrow(robot_pose[0, 0], robot_pose[0][1], desired_position[0], desired_position[1], head_width=0.2)\n",
    "plt.xlim(-5, 5)\n",
    "plt.ylim(-5, 5)"
   ]
  },
  {
   "cell_type": "code",
   "execution_count": null,
   "id": "4e847ffb-1d24-483e-b6d6-cac02424d42b",
   "metadata": {},
   "outputs": [],
   "source": []
  }
 ],
 "metadata": {
  "kernelspec": {
   "display_name": "Python 3 (ipykernel)",
   "language": "python",
   "name": "python3"
  },
  "language_info": {
   "codemirror_mode": {
    "name": "ipython",
    "version": 3
   },
   "file_extension": ".py",
   "mimetype": "text/x-python",
   "name": "python",
   "nbconvert_exporter": "python",
   "pygments_lexer": "ipython3",
   "version": "3.11.3"
  }
 },
 "nbformat": 4,
 "nbformat_minor": 5
}
